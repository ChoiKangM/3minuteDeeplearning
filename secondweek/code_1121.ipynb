{
  "nbformat": 4,
  "nbformat_minor": 0,
  "metadata": {
    "colab": {
      "name": "code_1121.ipynb",
      "version": "0.3.2",
      "provenance": [],
      "collapsed_sections": [],
      "include_colab_link": true
    },
    "kernelspec": {
      "name": "python3",
      "display_name": "Python 3"
    },
    "accelerator": "GPU"
  },
  "cells": [
    {
      "cell_type": "markdown",
      "metadata": {
        "id": "view-in-github",
        "colab_type": "text"
      },
      "source": [
        "<a href=\"https://colab.research.google.com/github/kei01138/3minuteDeeplearning/blob/master/secondweek/code_1121.ipynb\" target=\"_parent\"><img src=\"https://colab.research.google.com/assets/colab-badge.svg\" alt=\"Open In Colab\"/></a>"
      ]
    },
    {
      "metadata": {
        "id": "lKpLYVm9AArP",
        "colab_type": "text"
      },
      "cell_type": "markdown",
      "source": [
        "import library"
      ]
    },
    {
      "metadata": {
        "id": "iM7Zd5Ei-orT",
        "colab_type": "code",
        "colab": {}
      },
      "cell_type": "code",
      "source": [
        "import tensorflow as tf\n",
        "import pandas as pd\n",
        "import numpy as np"
      ],
      "execution_count": 0,
      "outputs": []
    },
    {
      "metadata": {
        "id": "p2G1aIHm-zEC",
        "colab_type": "text"
      },
      "cell_type": "markdown",
      "source": [
        "XOR Ploblem"
      ]
    },
    {
      "metadata": {
        "id": "mRzYOC9n-2EZ",
        "colab_type": "code",
        "colab": {}
      },
      "cell_type": "code",
      "source": [
        "x_data = [[0, 0], [0, 1], [1, 0], [1, 1]]\n",
        "y_data = [[0], [1], [1], [0]]"
      ],
      "execution_count": 0,
      "outputs": []
    },
    {
      "metadata": {
        "id": "JDsYU3NR_HCt",
        "colab_type": "code",
        "colab": {}
      },
      "cell_type": "code",
      "source": [
        "W = tf.Variable(tf.random_uniform([2, 1], -1, 1))\n",
        "b = tf.Variable(tf.random_uniform([1], -1, 1))"
      ],
      "execution_count": 0,
      "outputs": []
    },
    {
      "metadata": {
        "id": "8zii279X_I8F",
        "colab_type": "code",
        "colab": {}
      },
      "cell_type": "code",
      "source": [
        "X = tf.placeholder(tf.float32, shape=[None, 2], name=\"X\")\n",
        "Y = tf.placeholder(tf.float32, shape=[None, 1], name=\"Y\")"
      ],
      "execution_count": 0,
      "outputs": []
    },
    {
      "metadata": {
        "id": "-iYIih1X_LO9",
        "colab_type": "code",
        "colab": {}
      },
      "cell_type": "code",
      "source": [
        "h = tf.matmul(X, W) + b\n",
        "hypothesis = tf.nn.sigmoid(h)"
      ],
      "execution_count": 0,
      "outputs": []
    },
    {
      "metadata": {
        "id": "GSbeSawV_Ngd",
        "colab_type": "code",
        "colab": {}
      },
      "cell_type": "code",
      "source": [
        "# 손실 함수를 작성합니다.\n",
        "cost = tf.reduce_mean(tf.nn.sigmoid_cross_entropy_with_logits(labels=Y, logits=h))"
      ],
      "execution_count": 0,
      "outputs": []
    },
    {
      "metadata": {
        "id": "oPvav5A__P80",
        "colab_type": "code",
        "colab": {}
      },
      "cell_type": "code",
      "source": [
        "# 텐서플로우에 기본적으로 포함되어 있는 함수를 이용해 경사 하강법 최적화를 수행합니다.\n",
        "optimizer = tf.train.GradientDescentOptimizer(learning_rate=0.1)\n",
        "# 비용을 최소화 하는 것이 최종 목표\n",
        "train_op = optimizer.minimize(cost)"
      ],
      "execution_count": 0,
      "outputs": []
    },
    {
      "metadata": {
        "id": "JlGbE5OA_SIk",
        "colab_type": "code",
        "colab": {}
      },
      "cell_type": "code",
      "source": [
        "with tf.Session() as sess:\n",
        "    sess.run(tf.global_variables_initializer())\n",
        "\n",
        "    # 최적화를 20000번 수행합니다.\n",
        "    for step in range(20000):\n",
        "        # sess.run 을 통해 train_op 와 cost 그래프를 계산합니다.\n",
        "        # 이 때, 가설 수식에 넣어야 할 실제값을 feed_dict 을 통해 전달합니다.\n",
        "        _, cost_val = sess.run([train_op, cost], feed_dict={X: x_data, Y: y_data})\n",
        "\n",
        "    # 최적화가 완료된 모델에 테스트 값을 넣고 결과가 잘 나오는지 확인해봅니다.\n",
        "    print(\"\\n=== Test ===\")\n",
        "    print(\"X: [0, 0], Y:\", sess.run(hypothesis, feed_dict={X: [[0, 0]]}))\n",
        "    print(\"X: [0, 1], Y:\", sess.run(hypothesis, feed_dict={X: [[0, 1]]}))\n",
        "    print(\"X: [1, 0], Y:\", sess.run(hypothesis, feed_dict={X: [[1, 0]]}))\n",
        "    print(\"X: [1, 1], Y:\", sess.run(hypothesis, feed_dict={X: [[1, 1]]}))"
      ],
      "execution_count": 0,
      "outputs": []
    },
    {
      "metadata": {
        "id": "-OmHNxAnAMDI",
        "colab_type": "text"
      },
      "cell_type": "markdown",
      "source": [
        "Solve XOR ploblem with multi layer perceptron"
      ]
    },
    {
      "metadata": {
        "id": "Gzb0IkIN_UqM",
        "colab_type": "code",
        "colab": {}
      },
      "cell_type": "code",
      "source": [
        "# 텐서플로우를 초기화한다\n",
        "tf.reset_default_graph()"
      ],
      "execution_count": 0,
      "outputs": []
    },
    {
      "metadata": {
        "id": "T8v8tDC5AdmX",
        "colab_type": "code",
        "colab": {}
      },
      "cell_type": "code",
      "source": [
        "x_data = [[0, 0], [0, 1], [1, 0], [1, 1]]\n",
        "y_data = [[0], [1], [1], [0]]"
      ],
      "execution_count": 0,
      "outputs": []
    },
    {
      "metadata": {
        "id": "qZRpoq8JAiQH",
        "colab_type": "code",
        "colab": {}
      },
      "cell_type": "code",
      "source": [
        "W1 = tf.Variable(tf.random_uniform([2, 4], -1, 1, seed = 0))\n",
        "b1 = tf.Variable(tf.random_uniform([4], -1, 1, seed = 0))\n",
        "\n",
        "W2 = tf.Variable(tf.random_uniform([4, 1], -1, 1, seed = 0))\n",
        "b2 = tf.Variable(tf.random_uniform([1], -1, 1, seed = 0))\n"
      ],
      "execution_count": 0,
      "outputs": []
    },
    {
      "metadata": {
        "id": "xrHRXhhRAmmP",
        "colab_type": "code",
        "colab": {}
      },
      "cell_type": "code",
      "source": [
        "# name: 나중에 텐서보드등으로 값의 변화를 추적하거나 살펴보기 쉽게 하기 위해 이름을 붙여줍니다.\n",
        "X = tf.placeholder(tf.float32, shape=[None, 2], name=\"X\")\n",
        "Y = tf.placeholder(tf.float32, shape=[None, 1], name=\"Y\")"
      ],
      "execution_count": 0,
      "outputs": []
    },
    {
      "metadata": {
        "id": "9V9DlIZyArgo",
        "colab_type": "code",
        "colab": {}
      },
      "cell_type": "code",
      "source": [
        "# X 와 Y 의 상관 관계를 분석하기 위한 가설 수식을 작성합니다.\n",
        "# W 와 X 가 행렬이므로 tf.matmul을 사용했습니다.\n",
        "h1 = tf.nn.sigmoid(tf.matmul(X, W1) + b1)\n",
        "h2 = tf.matmul(h1, W2) + b2\n",
        "hypothesis = tf.nn.sigmoid(h2)"
      ],
      "execution_count": 0,
      "outputs": []
    },
    {
      "metadata": {
        "id": "UguZF6aYAsei",
        "colab_type": "code",
        "colab": {}
      },
      "cell_type": "code",
      "source": [
        "# 손실 함수를 작성합니다.\n",
        "# cross entropy : 예측값과 실제값의 cross entropy를 비용(손실) 함수로 정합니다.\n",
        "cost = tf.reduce_mean(tf.nn.sigmoid_cross_entropy_with_logits(labels=Y, logits=h2))"
      ],
      "execution_count": 0,
      "outputs": []
    },
    {
      "metadata": {
        "id": "I72ybK4nAvfa",
        "colab_type": "code",
        "colab": {}
      },
      "cell_type": "code",
      "source": [
        "# 텐서플로우에 기본적으로 포함되어 있는 함수를 이용해 경사 하강법 최적화를 수행합니다.\n",
        "optimizer = tf.train.GradientDescentOptimizer(learning_rate=0.1)\n",
        "# 비용을 최소화 하는 것이 최종 목표\n",
        "train_op = optimizer.minimize(cost)"
      ],
      "execution_count": 0,
      "outputs": []
    },
    {
      "metadata": {
        "id": "hgwMYWb4Axts",
        "colab_type": "code",
        "outputId": "94edd1a4-fa9d-48f4-ebd6-ab283b0f1b0c",
        "colab": {
          "base_uri": "https://localhost:8080/",
          "height": 454
        }
      },
      "cell_type": "code",
      "source": [
        "# 세션을 생성하고 초기화합니다.\n",
        "with tf.Session() as sess:\n",
        "    sess.run(tf.global_variables_initializer())\n",
        "\n",
        "    # 최적화를 20000번 수행합니다.\n",
        "    for step in range(20000):\n",
        "        # sess.run 을 통해 train_op 와 cost 그래프를 계산합니다.\n",
        "        # 이 때, 가설 수식에 넣어야 할 실제값을 feed_dict 을 통해 전달합니다.\n",
        "        _, cost_val = sess.run([train_op, cost], feed_dict={X: x_data, Y: y_data})\n",
        "\n",
        "        if step % 1000 == 0:\n",
        "            print(step, cost_val)\n",
        "\n",
        "    # 최적화가 완료된 모델에 테스트 값을 넣고 결과가 잘 나오는지 확인해봅니다.\n",
        "    print(\"\\n=== Test ===\")\n",
        "    print(\"X: [0, 0], Y:\", sess.run(hypothesis, feed_dict={X: [[0, 0]]}))\n",
        "    print(\"X: [0, 1], Y:\", sess.run(hypothesis, feed_dict={X: [[0, 1]]}))\n",
        "    print(\"X: [1, 0], Y:\", sess.run(hypothesis, feed_dict={X: [[1, 0]]}))\n",
        "    print(\"X: [1, 1], Y:\", sess.run(hypothesis, feed_dict={X: [[1, 1]]}))"
      ],
      "execution_count": 0,
      "outputs": [
        {
          "output_type": "stream",
          "text": [
            "0 0.6890681\n",
            "1000 0.6512548\n",
            "2000 0.5886403\n",
            "3000 0.53956974\n",
            "4000 0.51510894\n",
            "5000 0.50126475\n",
            "6000 0.4865732\n",
            "7000 0.35630843\n",
            "8000 0.112823546\n",
            "9000 0.051301207\n",
            "10000 0.031427126\n",
            "11000 0.022232894\n",
            "12000 0.017062822\n",
            "13000 0.013787217\n",
            "14000 0.011539571\n",
            "15000 0.0099073\n",
            "16000 0.008670803\n",
            "17000 0.0077030924\n",
            "18000 0.006925931\n",
            "19000 0.0062885582\n",
            "\n",
            "=== Test ===\n",
            "X: [0, 0], Y: [[0.0031513]]\n",
            "X: [0, 1], Y: [[0.9940713]]\n",
            "X: [1, 0], Y: [[0.9940738]]\n",
            "X: [1, 1], Y: [[0.0079484]]\n"
          ],
          "name": "stdout"
        }
      ]
    },
    {
      "metadata": {
        "id": "Oxu6HCfWBId-",
        "colab_type": "text"
      },
      "cell_type": "markdown",
      "source": [
        "Save trained model"
      ]
    },
    {
      "metadata": {
        "id": "fRdpI6goBEIW",
        "colab_type": "code",
        "colab": {}
      },
      "cell_type": "code",
      "source": [
        "# 텐서플로우를 초기화한다\n",
        "tf.reset_default_graph()"
      ],
      "execution_count": 0,
      "outputs": []
    },
    {
      "metadata": {
        "id": "GrSYSE-oBPAJ",
        "colab_type": "code",
        "colab": {}
      },
      "cell_type": "code",
      "source": [
        "x_data = [[0, 0], [0, 1], [1, 0], [1, 1]]\n",
        "y_data = [[0], [1], [1], [0]]\n",
        "\n",
        "W1 = tf.Variable(tf.random_uniform([2, 4], -1, 1, seed = 0))\n",
        "b1 = tf.Variable(tf.random_uniform([4], -1, 1, seed = 0))\n",
        "\n",
        "W2 = tf.Variable(tf.random_uniform([4, 1], -1, 1, seed = 0))\n",
        "b2 = tf.Variable(tf.random_uniform([1], -1, 1, seed = 0))\n",
        "\n",
        "# name: 나중에 텐서보드등으로 값의 변화를 추적하거나 살펴보기 쉽게 하기 위해 이름을 붙여줍니다.\n",
        "X = tf.placeholder(tf.float32, shape=[None, 2], name=\"X\")\n",
        "Y = tf.placeholder(tf.float32, shape=[None, 1], name=\"Y\")\n",
        "\n",
        "# X 와 Y 의 상관 관계를 분석하기 위한 가설 수식을 작성합니다.\n",
        "# W 와 X 가 행렬이므로 tf.matmul을 사용했습니다.\n",
        "h1 = tf.nn.sigmoid(tf.matmul(X, W1) + b1)\n",
        "h2 = tf.matmul(h1, W2) + b2\n",
        "hypothesis = tf.nn.sigmoid(h2)\n",
        "\n",
        "# 손실 함수를 작성합니다.\n",
        "# cross entropy : 예측값과 실제값의 cross entropy를 비용(손실) 함수로 정합니다.\n",
        "cost = tf.reduce_mean(tf.nn.sigmoid_cross_entropy_with_logits(labels=Y, logits=h2))\n",
        "# 텐서플로우에 기본적으로 포함되어 있는 함수를 이용해 경사 하강법 최적화를 수행합니다.\n",
        "optimizer = tf.train.GradientDescentOptimizer(learning_rate=0.1)\n",
        "# 비용을 최소화 하는 것이 최종 목표\n",
        "train_op = optimizer.minimize(cost)"
      ],
      "execution_count": 0,
      "outputs": []
    },
    {
      "metadata": {
        "id": "RnOt76sPBUJR",
        "colab_type": "code",
        "colab": {}
      },
      "cell_type": "code",
      "source": [
        "# 학습된 웨이트를 저장하기 위한 saver 만들기\n",
        "saver = tf.train.Saver()"
      ],
      "execution_count": 0,
      "outputs": []
    },
    {
      "metadata": {
        "id": "ENOamVb8Bqx1",
        "colab_type": "code",
        "outputId": "9140a62f-f0dc-47df-fb2b-bf5f98060f63",
        "colab": {
          "base_uri": "https://localhost:8080/",
          "height": 454
        }
      },
      "cell_type": "code",
      "source": [
        "# 세션을 생성하고 초기화합니다.\n",
        "with tf.Session() as sess:\n",
        "    sess.run(tf.global_variables_initializer())\n",
        "\n",
        "    # 최적화를 100번 수행합니다.\n",
        "    for step in range(20000):\n",
        "        # sess.run 을 통해 train_op 와 cost 그래프를 계산합니다.\n",
        "        # 이 때, 가설 수식에 넣어야 할 실제값을 feed_dict 을 통해 전달합니다.\n",
        "        _, cost_val = sess.run([train_op, cost], feed_dict={X: x_data, Y: y_data})\n",
        "\n",
        "        if step % 1000 == 0:\n",
        "            print(step, cost_val)\n",
        "\n",
        "    # weights를 지정한 위치에 저장\n",
        "    saver.save(sess, 'temp/model.ckpt')\n",
        "\n",
        "    # 최적화가 완료된 모델에 테스트 값을 넣고 결과가 잘 나오는지 확인해봅니다.\n",
        "    print(\"\\n=== Test ===\")\n",
        "    print(\"X: [0, 0], Y:\", sess.run(hypothesis, feed_dict={X: [[0, 0]]}))\n",
        "    print(\"X: [0, 1], Y:\", sess.run(hypothesis, feed_dict={X: [[0, 1]]}))\n",
        "    print(\"X: [1, 0], Y:\", sess.run(hypothesis, feed_dict={X: [[1, 0]]}))\n",
        "    print(\"X: [1, 1], Y:\", sess.run(hypothesis, feed_dict={X: [[1, 1]]}))"
      ],
      "execution_count": 0,
      "outputs": [
        {
          "output_type": "stream",
          "text": [
            "0 0.6890681\n",
            "1000 0.6512548\n",
            "2000 0.5886403\n",
            "3000 0.53956974\n",
            "4000 0.51510894\n",
            "5000 0.50126475\n",
            "6000 0.4865732\n",
            "7000 0.35630843\n",
            "8000 0.112823546\n",
            "9000 0.051301207\n",
            "10000 0.031427126\n",
            "11000 0.022232894\n",
            "12000 0.017062822\n",
            "13000 0.013787217\n",
            "14000 0.011539571\n",
            "15000 0.0099073\n",
            "16000 0.008670803\n",
            "17000 0.0077030924\n",
            "18000 0.006925931\n",
            "19000 0.0062885582\n",
            "\n",
            "=== Test ===\n",
            "X: [0, 0], Y: [[0.0031513]]\n",
            "X: [0, 1], Y: [[0.9940713]]\n",
            "X: [1, 0], Y: [[0.9940738]]\n",
            "X: [1, 1], Y: [[0.0079484]]\n"
          ],
          "name": "stdout"
        }
      ]
    },
    {
      "metadata": {
        "id": "WX_lHVycBtSk",
        "colab_type": "code",
        "outputId": "2050fe0d-745f-43b4-aa50-1b11e6326b61",
        "colab": {
          "base_uri": "https://localhost:8080/",
          "height": 34
        }
      },
      "cell_type": "code",
      "source": [
        "!ls temp"
      ],
      "execution_count": 0,
      "outputs": [
        {
          "output_type": "stream",
          "text": [
            "checkpoint  model.ckpt.data-00000-of-00001  model.ckpt.index  model.ckpt.meta\n"
          ],
          "name": "stdout"
        }
      ]
    },
    {
      "metadata": {
        "id": "Sad1yPb7B4GN",
        "colab_type": "text"
      },
      "cell_type": "markdown",
      "source": [
        "Restore saved weights"
      ]
    },
    {
      "metadata": {
        "id": "GCzr3l-PB20O",
        "colab_type": "code",
        "colab": {}
      },
      "cell_type": "code",
      "source": [
        "# 텐서플로우를 초기화한다\n",
        "tf.reset_default_graph()"
      ],
      "execution_count": 0,
      "outputs": []
    },
    {
      "metadata": {
        "id": "J_V2QAlcBwyJ",
        "colab_type": "code",
        "colab": {}
      },
      "cell_type": "code",
      "source": [
        "x_data = [[0, 0], [0, 1], [1, 0], [1, 1]]\n",
        "y_data = [[0], [1], [1], [0]]\n",
        "\n",
        "W1 = tf.Variable(tf.random_uniform([2, 4], -1, 1, seed = 0))\n",
        "b1 = tf.Variable(tf.random_uniform([4], -1, 1, seed = 0))\n",
        "\n",
        "W2 = tf.Variable(tf.random_uniform([4, 1], -1, 1, seed = 0))\n",
        "b2 = tf.Variable(tf.random_uniform([1], -1, 1, seed = 0))\n",
        "\n",
        "# name: 나중에 텐서보드등으로 값의 변화를 추적하거나 살펴보기 쉽게 하기 위해 이름을 붙여줍니다.\n",
        "X = tf.placeholder(tf.float32, shape=[None, 2], name=\"X\")\n",
        "Y = tf.placeholder(tf.float32, shape=[None, 1], name=\"Y\")\n",
        "\n",
        "# X 와 Y 의 상관 관계를 분석하기 위한 가설 수식을 작성합니다.\n",
        "# W 와 X 가 행렬이므로 tf.matmul을 사용했습니다.\n",
        "h1 = tf.nn.sigmoid(tf.matmul(X, W1) + b1)\n",
        "h2 = tf.matmul(h1, W2) + b2\n",
        "hypothesis = tf.nn.sigmoid(h2)"
      ],
      "execution_count": 0,
      "outputs": []
    },
    {
      "metadata": {
        "id": "3ZAreKPZCEdP",
        "colab_type": "code",
        "colab": {}
      },
      "cell_type": "code",
      "source": [
        "# restore 하기 위해 saver 만들기\n",
        "saver = tf.train.Saver()"
      ],
      "execution_count": 0,
      "outputs": []
    },
    {
      "metadata": {
        "id": "xIMo4_dECNAk",
        "colab_type": "code",
        "outputId": "130bfd26-f3cf-4601-c10f-865cff4b1462",
        "colab": {
          "base_uri": "https://localhost:8080/",
          "height": 134
        }
      },
      "cell_type": "code",
      "source": [
        "# 세션을 생성하고 초기화합니다.\n",
        "with tf.Session() as sess:\n",
        "    saver.restore(sess, 'temp/model.ckpt')\n",
        "\n",
        "    # 최적화가 완료된 모델에 테스트 값을 넣고 결과가 잘 나오는지 확인해봅니다.\n",
        "    print(\"\\n=== Test ===\")\n",
        "    print(\"X: [0, 0], Y:\", sess.run(hypothesis, feed_dict={X: [[0, 0]]}))\n",
        "    print(\"X: [0, 1], Y:\", sess.run(hypothesis, feed_dict={X: [[0, 1]]}))\n",
        "    print(\"X: [1, 0], Y:\", sess.run(hypothesis, feed_dict={X: [[1, 0]]}))\n",
        "    print(\"X: [1, 1], Y:\", sess.run(hypothesis, feed_dict={X: [[1, 1]]}))"
      ],
      "execution_count": 0,
      "outputs": [
        {
          "output_type": "stream",
          "text": [
            "INFO:tensorflow:Restoring parameters from temp/model.ckpt\n",
            "\n",
            "=== Test ===\n",
            "X: [0, 0], Y: [[0.0031513]]\n",
            "X: [0, 1], Y: [[0.9940713]]\n",
            "X: [1, 0], Y: [[0.9940738]]\n",
            "X: [1, 1], Y: [[0.0079484]]\n"
          ],
          "name": "stdout"
        }
      ]
    },
    {
      "metadata": {
        "id": "zmK5rUaUCPG8",
        "colab_type": "text"
      },
      "cell_type": "markdown",
      "source": [
        "Practice with real data - wine dataset"
      ]
    },
    {
      "metadata": {
        "id": "zXlqa3cOCV2N",
        "colab_type": "code",
        "colab": {}
      },
      "cell_type": "code",
      "source": [
        "# 텐서플로우를 초기화한다\n",
        "tf.reset_default_graph()"
      ],
      "execution_count": 0,
      "outputs": []
    },
    {
      "metadata": {
        "id": "mrDM1BSmCY-A",
        "colab_type": "code",
        "outputId": "1edab620-94a1-4e59-e3da-985287bd26de",
        "colab": {
          "base_uri": "https://localhost:8080/",
          "height": 121
        }
      },
      "cell_type": "code",
      "source": [
        "from google.colab import drive\n",
        "\n",
        "# 각자 드라이브에 맞는 경로를 입력합니다\n",
        "drive.mount('/content/gdrive')"
      ],
      "execution_count": 0,
      "outputs": [
        {
          "output_type": "stream",
          "text": [
            "Go to this URL in a browser: https://accounts.google.com/o/oauth2/auth?client_id=947318989803-6bn6qk8qdgf4n4g3pfee6491hc0brc4i.apps.googleusercontent.com&redirect_uri=urn%3Aietf%3Awg%3Aoauth%3A2.0%3Aoob&scope=email%20https%3A%2F%2Fwww.googleapis.com%2Fauth%2Fdocs.test%20https%3A%2F%2Fwww.googleapis.com%2Fauth%2Fdrive%20https%3A%2F%2Fwww.googleapis.com%2Fauth%2Fdrive.photos.readonly%20https%3A%2F%2Fwww.googleapis.com%2Fauth%2Fpeopleapi.readonly&response_type=code\n",
            "\n",
            "Enter your authorization code:\n",
            "··········\n",
            "Mounted at /content/gdrive\n"
          ],
          "name": "stdout"
        }
      ]
    },
    {
      "metadata": {
        "id": "r4te1MgXCscn",
        "colab_type": "code",
        "outputId": "ba2b4a99-5b51-460b-845c-39fa48da3b88",
        "colab": {
          "base_uri": "https://localhost:8080/",
          "height": 50
        }
      },
      "cell_type": "code",
      "source": [
        "ls /content/gdrive/My\\ Drive/lecture/mlp"
      ],
      "execution_count": 0,
      "outputs": [
        {
          "output_type": "stream",
          "text": [
            "code_1121.ipynb      wine.csv     xor_mlp.py          xor_mlp_save.py\n",
            "linearRegression.py  wine_mlp.py  xor_mlp_restore.py  xor_single_layer.py\n"
          ],
          "name": "stdout"
        }
      ]
    },
    {
      "metadata": {
        "id": "5KwX0XywD2nk",
        "colab_type": "code",
        "colab": {}
      },
      "cell_type": "code",
      "source": [
        "raw_data = pd.read_csv('/content/gdrive/My Drive/lecture/mlp/wine.csv')"
      ],
      "execution_count": 0,
      "outputs": []
    },
    {
      "metadata": {
        "id": "jQ3N1hNtECBk",
        "colab_type": "code",
        "outputId": "2b1a911b-0fb8-4a3a-bc70-545c5a50bfe4",
        "colab": {
          "base_uri": "https://localhost:8080/",
          "height": 377
        }
      },
      "cell_type": "code",
      "source": [
        "raw_data.head(10)"
      ],
      "execution_count": 0,
      "outputs": [
        {
          "output_type": "execute_result",
          "data": {
            "text/html": [
              "<div>\n",
              "<style scoped>\n",
              "    .dataframe tbody tr th:only-of-type {\n",
              "        vertical-align: middle;\n",
              "    }\n",
              "\n",
              "    .dataframe tbody tr th {\n",
              "        vertical-align: top;\n",
              "    }\n",
              "\n",
              "    .dataframe thead th {\n",
              "        text-align: right;\n",
              "    }\n",
              "</style>\n",
              "<table border=\"1\" class=\"dataframe\">\n",
              "  <thead>\n",
              "    <tr style=\"text-align: right;\">\n",
              "      <th></th>\n",
              "      <th>class</th>\n",
              "      <th>Alcohol</th>\n",
              "      <th>Malic acid</th>\n",
              "      <th>Ash</th>\n",
              "      <th>Alcalinity of ash</th>\n",
              "      <th>Magnesium</th>\n",
              "      <th>Total phenols</th>\n",
              "      <th>Flavanoids</th>\n",
              "      <th>Nonflavanoid phenols</th>\n",
              "      <th>Proanthocyanins</th>\n",
              "      <th>Color intensity</th>\n",
              "      <th>Hue</th>\n",
              "      <th>OD280/OD315 of diluted wines</th>\n",
              "      <th>Proline</th>\n",
              "    </tr>\n",
              "  </thead>\n",
              "  <tbody>\n",
              "    <tr>\n",
              "      <th>0</th>\n",
              "      <td>0</td>\n",
              "      <td>14.23</td>\n",
              "      <td>1.71</td>\n",
              "      <td>2.43</td>\n",
              "      <td>15.6</td>\n",
              "      <td>127</td>\n",
              "      <td>2.80</td>\n",
              "      <td>3.06</td>\n",
              "      <td>0.28</td>\n",
              "      <td>2.29</td>\n",
              "      <td>5.64</td>\n",
              "      <td>1.04</td>\n",
              "      <td>3.92</td>\n",
              "      <td>1065</td>\n",
              "    </tr>\n",
              "    <tr>\n",
              "      <th>1</th>\n",
              "      <td>0</td>\n",
              "      <td>13.20</td>\n",
              "      <td>1.78</td>\n",
              "      <td>2.14</td>\n",
              "      <td>11.2</td>\n",
              "      <td>100</td>\n",
              "      <td>2.65</td>\n",
              "      <td>2.76</td>\n",
              "      <td>0.26</td>\n",
              "      <td>1.28</td>\n",
              "      <td>4.38</td>\n",
              "      <td>1.05</td>\n",
              "      <td>3.40</td>\n",
              "      <td>1050</td>\n",
              "    </tr>\n",
              "    <tr>\n",
              "      <th>2</th>\n",
              "      <td>0</td>\n",
              "      <td>13.16</td>\n",
              "      <td>2.36</td>\n",
              "      <td>2.67</td>\n",
              "      <td>18.6</td>\n",
              "      <td>101</td>\n",
              "      <td>2.80</td>\n",
              "      <td>3.24</td>\n",
              "      <td>0.30</td>\n",
              "      <td>2.81</td>\n",
              "      <td>5.68</td>\n",
              "      <td>1.03</td>\n",
              "      <td>3.17</td>\n",
              "      <td>1185</td>\n",
              "    </tr>\n",
              "    <tr>\n",
              "      <th>3</th>\n",
              "      <td>0</td>\n",
              "      <td>14.37</td>\n",
              "      <td>1.95</td>\n",
              "      <td>2.50</td>\n",
              "      <td>16.8</td>\n",
              "      <td>113</td>\n",
              "      <td>3.85</td>\n",
              "      <td>3.49</td>\n",
              "      <td>0.24</td>\n",
              "      <td>2.18</td>\n",
              "      <td>7.80</td>\n",
              "      <td>0.86</td>\n",
              "      <td>3.45</td>\n",
              "      <td>1480</td>\n",
              "    </tr>\n",
              "    <tr>\n",
              "      <th>4</th>\n",
              "      <td>0</td>\n",
              "      <td>13.24</td>\n",
              "      <td>2.59</td>\n",
              "      <td>2.87</td>\n",
              "      <td>21.0</td>\n",
              "      <td>118</td>\n",
              "      <td>2.80</td>\n",
              "      <td>2.69</td>\n",
              "      <td>0.39</td>\n",
              "      <td>1.82</td>\n",
              "      <td>4.32</td>\n",
              "      <td>1.04</td>\n",
              "      <td>2.93</td>\n",
              "      <td>735</td>\n",
              "    </tr>\n",
              "    <tr>\n",
              "      <th>5</th>\n",
              "      <td>0</td>\n",
              "      <td>14.20</td>\n",
              "      <td>1.76</td>\n",
              "      <td>2.45</td>\n",
              "      <td>15.2</td>\n",
              "      <td>112</td>\n",
              "      <td>3.27</td>\n",
              "      <td>3.39</td>\n",
              "      <td>0.34</td>\n",
              "      <td>1.97</td>\n",
              "      <td>6.75</td>\n",
              "      <td>1.05</td>\n",
              "      <td>2.85</td>\n",
              "      <td>1450</td>\n",
              "    </tr>\n",
              "    <tr>\n",
              "      <th>6</th>\n",
              "      <td>0</td>\n",
              "      <td>14.39</td>\n",
              "      <td>1.87</td>\n",
              "      <td>2.45</td>\n",
              "      <td>14.6</td>\n",
              "      <td>96</td>\n",
              "      <td>2.50</td>\n",
              "      <td>2.52</td>\n",
              "      <td>0.30</td>\n",
              "      <td>1.98</td>\n",
              "      <td>5.25</td>\n",
              "      <td>1.02</td>\n",
              "      <td>3.58</td>\n",
              "      <td>1290</td>\n",
              "    </tr>\n",
              "    <tr>\n",
              "      <th>7</th>\n",
              "      <td>0</td>\n",
              "      <td>14.06</td>\n",
              "      <td>2.15</td>\n",
              "      <td>2.61</td>\n",
              "      <td>17.6</td>\n",
              "      <td>121</td>\n",
              "      <td>2.60</td>\n",
              "      <td>2.51</td>\n",
              "      <td>0.31</td>\n",
              "      <td>1.25</td>\n",
              "      <td>5.05</td>\n",
              "      <td>1.06</td>\n",
              "      <td>3.58</td>\n",
              "      <td>1295</td>\n",
              "    </tr>\n",
              "    <tr>\n",
              "      <th>8</th>\n",
              "      <td>0</td>\n",
              "      <td>14.83</td>\n",
              "      <td>1.64</td>\n",
              "      <td>2.17</td>\n",
              "      <td>14.0</td>\n",
              "      <td>97</td>\n",
              "      <td>2.80</td>\n",
              "      <td>2.98</td>\n",
              "      <td>0.29</td>\n",
              "      <td>1.98</td>\n",
              "      <td>5.20</td>\n",
              "      <td>1.08</td>\n",
              "      <td>2.85</td>\n",
              "      <td>1045</td>\n",
              "    </tr>\n",
              "    <tr>\n",
              "      <th>9</th>\n",
              "      <td>0</td>\n",
              "      <td>13.86</td>\n",
              "      <td>1.35</td>\n",
              "      <td>2.27</td>\n",
              "      <td>16.0</td>\n",
              "      <td>98</td>\n",
              "      <td>2.98</td>\n",
              "      <td>3.15</td>\n",
              "      <td>0.22</td>\n",
              "      <td>1.85</td>\n",
              "      <td>7.22</td>\n",
              "      <td>1.01</td>\n",
              "      <td>3.55</td>\n",
              "      <td>1045</td>\n",
              "    </tr>\n",
              "  </tbody>\n",
              "</table>\n",
              "</div>"
            ],
            "text/plain": [
              "   class  Alcohol  Malic acid   Ash  Alcalinity of ash  Magnesium  \\\n",
              "0      0    14.23        1.71  2.43               15.6        127   \n",
              "1      0    13.20        1.78  2.14               11.2        100   \n",
              "2      0    13.16        2.36  2.67               18.6        101   \n",
              "3      0    14.37        1.95  2.50               16.8        113   \n",
              "4      0    13.24        2.59  2.87               21.0        118   \n",
              "5      0    14.20        1.76  2.45               15.2        112   \n",
              "6      0    14.39        1.87  2.45               14.6         96   \n",
              "7      0    14.06        2.15  2.61               17.6        121   \n",
              "8      0    14.83        1.64  2.17               14.0         97   \n",
              "9      0    13.86        1.35  2.27               16.0         98   \n",
              "\n",
              "   Total phenols  Flavanoids  Nonflavanoid phenols  Proanthocyanins  \\\n",
              "0           2.80        3.06                  0.28             2.29   \n",
              "1           2.65        2.76                  0.26             1.28   \n",
              "2           2.80        3.24                  0.30             2.81   \n",
              "3           3.85        3.49                  0.24             2.18   \n",
              "4           2.80        2.69                  0.39             1.82   \n",
              "5           3.27        3.39                  0.34             1.97   \n",
              "6           2.50        2.52                  0.30             1.98   \n",
              "7           2.60        2.51                  0.31             1.25   \n",
              "8           2.80        2.98                  0.29             1.98   \n",
              "9           2.98        3.15                  0.22             1.85   \n",
              "\n",
              "   Color intensity   Hue  OD280/OD315 of diluted wines  Proline  \n",
              "0             5.64  1.04                          3.92     1065  \n",
              "1             4.38  1.05                          3.40     1050  \n",
              "2             5.68  1.03                          3.17     1185  \n",
              "3             7.80  0.86                          3.45     1480  \n",
              "4             4.32  1.04                          2.93      735  \n",
              "5             6.75  1.05                          2.85     1450  \n",
              "6             5.25  1.02                          3.58     1290  \n",
              "7             5.05  1.06                          3.58     1295  \n",
              "8             5.20  1.08                          2.85     1045  \n",
              "9             7.22  1.01                          3.55     1045  "
            ]
          },
          "metadata": {
            "tags": []
          },
          "execution_count": 32
        }
      ]
    },
    {
      "metadata": {
        "id": "6H3aEXyaERCC",
        "colab_type": "code",
        "outputId": "36668786-b6ea-4add-a761-23f7e5830d55",
        "colab": {
          "base_uri": "https://localhost:8080/",
          "height": 494
        }
      },
      "cell_type": "code",
      "source": [
        "raw_data.ix[:, 1:].head(10)"
      ],
      "execution_count": 0,
      "outputs": [
        {
          "output_type": "stream",
          "text": [
            "/usr/local/lib/python3.6/dist-packages/ipykernel_launcher.py:1: DeprecationWarning: \n",
            ".ix is deprecated. Please use\n",
            ".loc for label based indexing or\n",
            ".iloc for positional indexing\n",
            "\n",
            "See the documentation here:\n",
            "http://pandas.pydata.org/pandas-docs/stable/indexing.html#ix-indexer-is-deprecated\n",
            "  \"\"\"Entry point for launching an IPython kernel.\n"
          ],
          "name": "stderr"
        },
        {
          "output_type": "execute_result",
          "data": {
            "text/html": [
              "<div>\n",
              "<style scoped>\n",
              "    .dataframe tbody tr th:only-of-type {\n",
              "        vertical-align: middle;\n",
              "    }\n",
              "\n",
              "    .dataframe tbody tr th {\n",
              "        vertical-align: top;\n",
              "    }\n",
              "\n",
              "    .dataframe thead th {\n",
              "        text-align: right;\n",
              "    }\n",
              "</style>\n",
              "<table border=\"1\" class=\"dataframe\">\n",
              "  <thead>\n",
              "    <tr style=\"text-align: right;\">\n",
              "      <th></th>\n",
              "      <th>Alcohol</th>\n",
              "      <th>Malic acid</th>\n",
              "      <th>Ash</th>\n",
              "      <th>Alcalinity of ash</th>\n",
              "      <th>Magnesium</th>\n",
              "      <th>Total phenols</th>\n",
              "      <th>Flavanoids</th>\n",
              "      <th>Nonflavanoid phenols</th>\n",
              "      <th>Proanthocyanins</th>\n",
              "      <th>Color intensity</th>\n",
              "      <th>Hue</th>\n",
              "      <th>OD280/OD315 of diluted wines</th>\n",
              "      <th>Proline</th>\n",
              "    </tr>\n",
              "  </thead>\n",
              "  <tbody>\n",
              "    <tr>\n",
              "      <th>0</th>\n",
              "      <td>14.23</td>\n",
              "      <td>1.71</td>\n",
              "      <td>2.43</td>\n",
              "      <td>15.6</td>\n",
              "      <td>127</td>\n",
              "      <td>2.80</td>\n",
              "      <td>3.06</td>\n",
              "      <td>0.28</td>\n",
              "      <td>2.29</td>\n",
              "      <td>5.64</td>\n",
              "      <td>1.04</td>\n",
              "      <td>3.92</td>\n",
              "      <td>1065</td>\n",
              "    </tr>\n",
              "    <tr>\n",
              "      <th>1</th>\n",
              "      <td>13.20</td>\n",
              "      <td>1.78</td>\n",
              "      <td>2.14</td>\n",
              "      <td>11.2</td>\n",
              "      <td>100</td>\n",
              "      <td>2.65</td>\n",
              "      <td>2.76</td>\n",
              "      <td>0.26</td>\n",
              "      <td>1.28</td>\n",
              "      <td>4.38</td>\n",
              "      <td>1.05</td>\n",
              "      <td>3.40</td>\n",
              "      <td>1050</td>\n",
              "    </tr>\n",
              "    <tr>\n",
              "      <th>2</th>\n",
              "      <td>13.16</td>\n",
              "      <td>2.36</td>\n",
              "      <td>2.67</td>\n",
              "      <td>18.6</td>\n",
              "      <td>101</td>\n",
              "      <td>2.80</td>\n",
              "      <td>3.24</td>\n",
              "      <td>0.30</td>\n",
              "      <td>2.81</td>\n",
              "      <td>5.68</td>\n",
              "      <td>1.03</td>\n",
              "      <td>3.17</td>\n",
              "      <td>1185</td>\n",
              "    </tr>\n",
              "    <tr>\n",
              "      <th>3</th>\n",
              "      <td>14.37</td>\n",
              "      <td>1.95</td>\n",
              "      <td>2.50</td>\n",
              "      <td>16.8</td>\n",
              "      <td>113</td>\n",
              "      <td>3.85</td>\n",
              "      <td>3.49</td>\n",
              "      <td>0.24</td>\n",
              "      <td>2.18</td>\n",
              "      <td>7.80</td>\n",
              "      <td>0.86</td>\n",
              "      <td>3.45</td>\n",
              "      <td>1480</td>\n",
              "    </tr>\n",
              "    <tr>\n",
              "      <th>4</th>\n",
              "      <td>13.24</td>\n",
              "      <td>2.59</td>\n",
              "      <td>2.87</td>\n",
              "      <td>21.0</td>\n",
              "      <td>118</td>\n",
              "      <td>2.80</td>\n",
              "      <td>2.69</td>\n",
              "      <td>0.39</td>\n",
              "      <td>1.82</td>\n",
              "      <td>4.32</td>\n",
              "      <td>1.04</td>\n",
              "      <td>2.93</td>\n",
              "      <td>735</td>\n",
              "    </tr>\n",
              "    <tr>\n",
              "      <th>5</th>\n",
              "      <td>14.20</td>\n",
              "      <td>1.76</td>\n",
              "      <td>2.45</td>\n",
              "      <td>15.2</td>\n",
              "      <td>112</td>\n",
              "      <td>3.27</td>\n",
              "      <td>3.39</td>\n",
              "      <td>0.34</td>\n",
              "      <td>1.97</td>\n",
              "      <td>6.75</td>\n",
              "      <td>1.05</td>\n",
              "      <td>2.85</td>\n",
              "      <td>1450</td>\n",
              "    </tr>\n",
              "    <tr>\n",
              "      <th>6</th>\n",
              "      <td>14.39</td>\n",
              "      <td>1.87</td>\n",
              "      <td>2.45</td>\n",
              "      <td>14.6</td>\n",
              "      <td>96</td>\n",
              "      <td>2.50</td>\n",
              "      <td>2.52</td>\n",
              "      <td>0.30</td>\n",
              "      <td>1.98</td>\n",
              "      <td>5.25</td>\n",
              "      <td>1.02</td>\n",
              "      <td>3.58</td>\n",
              "      <td>1290</td>\n",
              "    </tr>\n",
              "    <tr>\n",
              "      <th>7</th>\n",
              "      <td>14.06</td>\n",
              "      <td>2.15</td>\n",
              "      <td>2.61</td>\n",
              "      <td>17.6</td>\n",
              "      <td>121</td>\n",
              "      <td>2.60</td>\n",
              "      <td>2.51</td>\n",
              "      <td>0.31</td>\n",
              "      <td>1.25</td>\n",
              "      <td>5.05</td>\n",
              "      <td>1.06</td>\n",
              "      <td>3.58</td>\n",
              "      <td>1295</td>\n",
              "    </tr>\n",
              "    <tr>\n",
              "      <th>8</th>\n",
              "      <td>14.83</td>\n",
              "      <td>1.64</td>\n",
              "      <td>2.17</td>\n",
              "      <td>14.0</td>\n",
              "      <td>97</td>\n",
              "      <td>2.80</td>\n",
              "      <td>2.98</td>\n",
              "      <td>0.29</td>\n",
              "      <td>1.98</td>\n",
              "      <td>5.20</td>\n",
              "      <td>1.08</td>\n",
              "      <td>2.85</td>\n",
              "      <td>1045</td>\n",
              "    </tr>\n",
              "    <tr>\n",
              "      <th>9</th>\n",
              "      <td>13.86</td>\n",
              "      <td>1.35</td>\n",
              "      <td>2.27</td>\n",
              "      <td>16.0</td>\n",
              "      <td>98</td>\n",
              "      <td>2.98</td>\n",
              "      <td>3.15</td>\n",
              "      <td>0.22</td>\n",
              "      <td>1.85</td>\n",
              "      <td>7.22</td>\n",
              "      <td>1.01</td>\n",
              "      <td>3.55</td>\n",
              "      <td>1045</td>\n",
              "    </tr>\n",
              "  </tbody>\n",
              "</table>\n",
              "</div>"
            ],
            "text/plain": [
              "   Alcohol  Malic acid   Ash  Alcalinity of ash  Magnesium  Total phenols  \\\n",
              "0    14.23        1.71  2.43               15.6        127           2.80   \n",
              "1    13.20        1.78  2.14               11.2        100           2.65   \n",
              "2    13.16        2.36  2.67               18.6        101           2.80   \n",
              "3    14.37        1.95  2.50               16.8        113           3.85   \n",
              "4    13.24        2.59  2.87               21.0        118           2.80   \n",
              "5    14.20        1.76  2.45               15.2        112           3.27   \n",
              "6    14.39        1.87  2.45               14.6         96           2.50   \n",
              "7    14.06        2.15  2.61               17.6        121           2.60   \n",
              "8    14.83        1.64  2.17               14.0         97           2.80   \n",
              "9    13.86        1.35  2.27               16.0         98           2.98   \n",
              "\n",
              "   Flavanoids  Nonflavanoid phenols  Proanthocyanins  Color intensity   Hue  \\\n",
              "0        3.06                  0.28             2.29             5.64  1.04   \n",
              "1        2.76                  0.26             1.28             4.38  1.05   \n",
              "2        3.24                  0.30             2.81             5.68  1.03   \n",
              "3        3.49                  0.24             2.18             7.80  0.86   \n",
              "4        2.69                  0.39             1.82             4.32  1.04   \n",
              "5        3.39                  0.34             1.97             6.75  1.05   \n",
              "6        2.52                  0.30             1.98             5.25  1.02   \n",
              "7        2.51                  0.31             1.25             5.05  1.06   \n",
              "8        2.98                  0.29             1.98             5.20  1.08   \n",
              "9        3.15                  0.22             1.85             7.22  1.01   \n",
              "\n",
              "   OD280/OD315 of diluted wines  Proline  \n",
              "0                          3.92     1065  \n",
              "1                          3.40     1050  \n",
              "2                          3.17     1185  \n",
              "3                          3.45     1480  \n",
              "4                          2.93      735  \n",
              "5                          2.85     1450  \n",
              "6                          3.58     1290  \n",
              "7                          3.58     1295  \n",
              "8                          2.85     1045  \n",
              "9                          3.55     1045  "
            ]
          },
          "metadata": {
            "tags": []
          },
          "execution_count": 33
        }
      ]
    },
    {
      "metadata": {
        "id": "8XXgBGBfEVKX",
        "colab_type": "code",
        "outputId": "9cd27d07-6efa-4175-f592-12cbee69d94e",
        "colab": {
          "base_uri": "https://localhost:8080/",
          "height": 202
        }
      },
      "cell_type": "code",
      "source": [
        "raw_data.ix[:, 0].head(10)"
      ],
      "execution_count": 0,
      "outputs": [
        {
          "output_type": "execute_result",
          "data": {
            "text/plain": [
              "0    0\n",
              "1    0\n",
              "2    0\n",
              "3    0\n",
              "4    0\n",
              "5    0\n",
              "6    0\n",
              "7    0\n",
              "8    0\n",
              "9    0\n",
              "Name: class, dtype: int64"
            ]
          },
          "metadata": {
            "tags": []
          },
          "execution_count": 34
        }
      ]
    },
    {
      "metadata": {
        "id": "KYSqpU1JEINE",
        "colab_type": "code",
        "colab": {}
      },
      "cell_type": "code",
      "source": [
        "x_data = np.asarray(raw_data.ix[:, 1:])\n",
        "y_data = np.asarray(raw_data.ix[:, 0])"
      ],
      "execution_count": 0,
      "outputs": []
    },
    {
      "metadata": {
        "id": "Y0GBlelMENVc",
        "colab_type": "code",
        "colab": {}
      },
      "cell_type": "code",
      "source": [
        "W1 = tf.Variable(tf.random_uniform([13, 32], -1, 1))\n",
        "b1 = tf.Variable(tf.random_uniform([32], -1, 1))\n",
        "\n",
        "W2 = tf.Variable(tf.random_uniform([32, 16], -1, 1))\n",
        "b2 = tf.Variable(tf.random_uniform([16], -1, 1))\n",
        "\n",
        "W3 = tf.Variable(tf.random_uniform([16, 3], -1, 1))\n",
        "b3 = tf.Variable(tf.random_uniform([3], -1, 1))"
      ],
      "execution_count": 0,
      "outputs": []
    },
    {
      "metadata": {
        "id": "nO214fsIqlsl",
        "colab_type": "code",
        "colab": {}
      },
      "cell_type": "code",
      "source": [
        "X = tf.placeholder(tf.float32, shape=[None, 13], name=\"X\")\n",
        "Y = tf.placeholder(tf.int32, shape=[None], name=\"Y\")\n",
        "Y_onehot = tf.one_hot(Y, depth=3)"
      ],
      "execution_count": 0,
      "outputs": []
    },
    {
      "metadata": {
        "id": "rN9ILQl7qnZW",
        "colab_type": "code",
        "colab": {}
      },
      "cell_type": "code",
      "source": [
        "# X 와 Y 의 상관 관계를 분석하기 위한 가설 수식을 작성합니다.\n",
        "# W 와 X 가 행렬이므로 tf.matmul을 사용했습니다.\n",
        "h1 = tf.nn.relu(tf.matmul(X, W1) + b1)\n",
        "h2 = tf.nn.relu(tf.matmul(h1, W2) + b2)\n",
        "h3 = tf.matmul(h2, W3) + b3\n",
        "hypothesis = tf.nn.softmax(h3)"
      ],
      "execution_count": 0,
      "outputs": []
    },
    {
      "metadata": {
        "id": "6sUUhtj3qp81",
        "colab_type": "code",
        "colab": {}
      },
      "cell_type": "code",
      "source": [
        "# 손실 함수를 작성합니다.\n",
        "# cross entropy : 예측값과 실제값의 cross entropy를 비용(손실) 함수로 정합니다.\n",
        "cost = tf.reduce_mean(tf.nn.softmax_cross_entropy_with_logits_v2(labels=Y_onehot, logits=h3))"
      ],
      "execution_count": 0,
      "outputs": []
    },
    {
      "metadata": {
        "id": "oWfhU10Gqsjl",
        "colab_type": "code",
        "colab": {}
      },
      "cell_type": "code",
      "source": [
        "# 텐서플로우에 기본적으로 포함되어 있는 함수를 이용해 경사 하강법 최적화를 수행합니다.\n",
        "optimizer = tf.train.GradientDescentOptimizer(learning_rate=0.1)\n",
        "# 비용을 최소화 하는 것이 최종 목표\n",
        "train_op = optimizer.minimize(cost)"
      ],
      "execution_count": 0,
      "outputs": []
    },
    {
      "metadata": {
        "id": "dCUsl3ZZquCm",
        "colab_type": "code",
        "colab": {}
      },
      "cell_type": "code",
      "source": [
        "acc, update_op = tf.metrics.accuracy(Y, tf.argmax(hypothesis, axis=-1))"
      ],
      "execution_count": 0,
      "outputs": []
    },
    {
      "metadata": {
        "id": "Ds3bi-QiqwAm",
        "colab_type": "code",
        "outputId": "c5fd5435-818a-4111-8737-f600024e3cf0",
        "colab": {
          "base_uri": "https://localhost:8080/",
          "height": 202
        }
      },
      "cell_type": "code",
      "source": [
        "# 세션을 생성하고 초기화합니다.\n",
        "with tf.Session() as sess:\n",
        "    sess.run(tf.global_variables_initializer())\n",
        "\n",
        "    # 최적화를 100번 수행합니다.\n",
        "    for step in range(1000):\n",
        "        # sess.run 을 통해 train_op 와 cost 그래프를 계산합니다.\n",
        "        # 이 때, 가설 수식에 넣어야 할 실제값을 feed_dict 을 통해 전달합니다.\n",
        "        _, cost_val = sess.run([train_op, cost], feed_dict={X: x_data, Y: y_data})\n",
        "\n",
        "        if step % 100 == 0:\n",
        "            print(step, cost_val)\n",
        "    sess.run(tf.local_variables_initializer())\n",
        "    a = sess.run([update_op], feed_dict={X: x_data, Y: y_data})\n",
        "    print(a[0])"
      ],
      "execution_count": 0,
      "outputs": [
        {
          "output_type": "stream",
          "text": [
            "0 1785.9077\n",
            "100 1.0860415\n",
            "200 1.0860385\n",
            "300 1.0860384\n",
            "400 1.0860384\n",
            "500 1.0860386\n",
            "600 1.0860384\n",
            "700 1.0860385\n",
            "800 1.0860386\n",
            "900 1.0860385\n",
            "0.3988764\n"
          ],
          "name": "stdout"
        }
      ]
    },
    {
      "metadata": {
        "id": "W_-WHTI2rQkB",
        "colab_type": "text"
      },
      "cell_type": "markdown",
      "source": [
        "Data normalization(whitening)"
      ]
    },
    {
      "metadata": {
        "id": "SF7QF-36qzNF",
        "colab_type": "code",
        "colab": {}
      },
      "cell_type": "code",
      "source": [
        "# 텐서플로우를 초기화한다\n",
        "tf.reset_default_graph()"
      ],
      "execution_count": 0,
      "outputs": []
    },
    {
      "metadata": {
        "id": "cknemsrTraMU",
        "colab_type": "code",
        "colab": {}
      },
      "cell_type": "code",
      "source": [
        "raw_data = pd.read_csv('/content/gdrive/My Drive/lecture/mlp/wine.csv')"
      ],
      "execution_count": 0,
      "outputs": []
    },
    {
      "metadata": {
        "id": "KyZF60Rsrfc9",
        "colab_type": "code",
        "outputId": "e6118ccf-ac3a-426d-8619-13dac4ee1064",
        "colab": {
          "base_uri": "https://localhost:8080/",
          "height": 151
        }
      },
      "cell_type": "code",
      "source": [
        "x_data = np.asarray(raw_data.ix[:, 1:])\n",
        "y_data = np.asarray(raw_data.ix[:, 0])"
      ],
      "execution_count": 0,
      "outputs": [
        {
          "output_type": "stream",
          "text": [
            "/usr/local/lib/python3.6/dist-packages/ipykernel_launcher.py:1: DeprecationWarning: \n",
            ".ix is deprecated. Please use\n",
            ".loc for label based indexing or\n",
            ".iloc for positional indexing\n",
            "\n",
            "See the documentation here:\n",
            "http://pandas.pydata.org/pandas-docs/stable/indexing.html#ix-indexer-is-deprecated\n",
            "  \"\"\"Entry point for launching an IPython kernel.\n"
          ],
          "name": "stderr"
        }
      ]
    },
    {
      "metadata": {
        "id": "dP-XZ58triM0",
        "colab_type": "code",
        "colab": {}
      },
      "cell_type": "code",
      "source": [
        "mean = np.mean(x_data, axis=0)\n",
        "std = np.std(x_data, axis=0)\n",
        "x_data = (x_data - mean) / std"
      ],
      "execution_count": 0,
      "outputs": []
    },
    {
      "metadata": {
        "id": "SaCADfUUDUmd",
        "colab_type": "code",
        "outputId": "3af12e88-a0be-4354-a364-4754bb4a08ac",
        "colab": {
          "base_uri": "https://localhost:8080/",
          "height": 521
        }
      },
      "cell_type": "code",
      "source": [
        "print(x_data[:10,])"
      ],
      "execution_count": 0,
      "outputs": [
        {
          "output_type": "stream",
          "text": [
            "[[ 1.51861254 -0.5622498   0.23205254 -1.16959318  1.91390522  0.80899739\n",
            "   1.03481896 -0.65956311  1.22488398  0.25171685  0.36217728  1.84791957\n",
            "   1.01300893]\n",
            " [ 0.24628963 -0.49941338 -0.82799632 -2.49084714  0.01814502  0.56864766\n",
            "   0.73362894 -0.82071924 -0.54472099 -0.29332133  0.40605066  1.1134493\n",
            "   0.96524152]\n",
            " [ 0.19687903  0.02123125  1.10933436 -0.2687382   0.08835836  0.80899739\n",
            "   1.21553297 -0.49840699  2.13596773  0.26901965  0.31830389  0.78858745\n",
            "   1.39514818]\n",
            " [ 1.69154964 -0.34681064  0.4879264  -0.80925118  0.93091845  2.49144552\n",
            "   1.46652465 -0.98187536  1.03215473  1.18606801 -0.42754369  1.18407144\n",
            "   2.33457383]\n",
            " [ 0.29570023  0.22769377  1.84040254  0.45194578  1.28198515  0.80899739\n",
            "   0.66335127  0.22679555  0.40140444 -0.31927553  0.36217728  0.44960118\n",
            "  -0.03787401]\n",
            " [ 1.48155459 -0.51736664  0.30515936 -1.28970717  0.86070511  1.56209322\n",
            "   1.36612798 -0.17609475  0.66421706  0.73186953  0.40605066  0.33660575\n",
            "   2.23903902]\n",
            " [ 1.71625494 -0.4186237   0.30515936 -1.46987817 -0.26270834  0.32829793\n",
            "   0.49267693 -0.49840699  0.6817379   0.08301456  0.2744305   1.36768901\n",
            "   1.72952002]\n",
            " [ 1.3086175  -0.16727801  0.89001391 -0.56902319  1.49262517  0.48853108\n",
            "   0.48263726 -0.41782893 -0.59728351 -0.00349944  0.44992405  1.36768901\n",
            "   1.74544249]\n",
            " [ 2.25977152 -0.62508622 -0.7183361  -1.65004916 -0.192495    0.80899739\n",
            "   0.95450162 -0.57898505  0.6817379   0.06138606  0.53767082  0.33660575\n",
            "   0.94931905]\n",
            " [ 1.0615645  -0.88540853 -0.352802   -1.04947918 -0.12228166  1.09741707\n",
            "   1.12517596 -1.14303148  0.45396697  0.93517742  0.23055711  1.32531572\n",
            "   0.94931905]]\n"
          ],
          "name": "stdout"
        }
      ]
    },
    {
      "metadata": {
        "id": "ydCn18AqrlVr",
        "colab_type": "code",
        "colab": {}
      },
      "cell_type": "code",
      "source": [
        "W1 = tf.Variable(tf.random_uniform([13, 32], -1, 1))\n",
        "b1 = tf.Variable(tf.random_uniform([32], -1, 1))\n",
        "\n",
        "W2 = tf.Variable(tf.random_uniform([32, 16], -1, 1))\n",
        "b2 = tf.Variable(tf.random_uniform([16], -1, 1))\n",
        "\n",
        "W3 = tf.Variable(tf.random_uniform([16, 3], -1, 1))\n",
        "b3 = tf.Variable(tf.random_uniform([3], -1, 1))"
      ],
      "execution_count": 0,
      "outputs": []
    },
    {
      "metadata": {
        "id": "2VjrDrWmrnC8",
        "colab_type": "code",
        "colab": {}
      },
      "cell_type": "code",
      "source": [
        "# name: 나중에 텐서보드등으로 값의 변화를 추적하거나 살펴보기 쉽게 하기 위해 이름을 붙여줍니다.\n",
        "X = tf.placeholder(tf.float32, shape=[None, 13], name=\"X\")\n",
        "Y = tf.placeholder(tf.int32, shape=[None], name=\"Y\")\n",
        "Y_onehot = tf.one_hot(Y, depth=3)"
      ],
      "execution_count": 0,
      "outputs": []
    },
    {
      "metadata": {
        "id": "fEWmojkMrook",
        "colab_type": "code",
        "colab": {}
      },
      "cell_type": "code",
      "source": [
        "# X 와 Y 의 상관 관계를 분석하기 위한 가설 수식을 작성합니다.\n",
        "# W 와 X 가 행렬이므로 tf.matmul을 사용했습니다.\n",
        "h1 = tf.nn.relu(tf.matmul(X, W1) + b1)\n",
        "h2 = tf.nn.relu(tf.matmul(h1, W2) + b2)\n",
        "h3 = tf.matmul(h2, W3) + b3\n",
        "hypothesis = tf.nn.softmax(h3)"
      ],
      "execution_count": 0,
      "outputs": []
    },
    {
      "metadata": {
        "id": "WbhspVatrqUc",
        "colab_type": "code",
        "colab": {}
      },
      "cell_type": "code",
      "source": [
        "# 손실 함수를 작성합니다.\n",
        "# cross entropy : 예측값과 실제값의 cross entropy를 비용(손실) 함수로 정합니다.\n",
        "cost = tf.reduce_mean(tf.nn.softmax_cross_entropy_with_logits_v2(labels=Y_onehot, logits=h3))"
      ],
      "execution_count": 0,
      "outputs": []
    },
    {
      "metadata": {
        "id": "bl7q_Cjgrsgz",
        "colab_type": "code",
        "colab": {}
      },
      "cell_type": "code",
      "source": [
        "# 텐서플로우에 기본적으로 포함되어 있는 함수를 이용해 경사 하강법 최적화를 수행합니다.\n",
        "optimizer = tf.train.GradientDescentOptimizer(learning_rate=0.1)\n",
        "# 비용을 최소화 하는 것이 최종 목표\n",
        "train_op = optimizer.minimize(cost)"
      ],
      "execution_count": 0,
      "outputs": []
    },
    {
      "metadata": {
        "id": "BSH1gxaGruKU",
        "colab_type": "code",
        "colab": {}
      },
      "cell_type": "code",
      "source": [
        "acc, update_op = tf.metrics.accuracy(Y, tf.argmax(hypothesis, axis=-1))"
      ],
      "execution_count": 0,
      "outputs": []
    },
    {
      "metadata": {
        "id": "RAwb_247rvdM",
        "colab_type": "code",
        "outputId": "2d08583f-8c6b-4b39-a4ff-65a21ae2431a",
        "colab": {
          "base_uri": "https://localhost:8080/",
          "height": 202
        }
      },
      "cell_type": "code",
      "source": [
        "# 세션을 생성하고 초기화합니다.\n",
        "with tf.Session() as sess:\n",
        "    sess.run(tf.global_variables_initializer())\n",
        "\n",
        "    # 최적화를 100번 수행합니다.\n",
        "    for step in range(1000):\n",
        "        # sess.run 을 통해 train_op 와 cost 그래프를 계산합니다.\n",
        "        # 이 때, 가설 수식에 넣어야 할 실제값을 feed_dict 을 통해 전달합니다.\n",
        "        _, cost_val = sess.run([train_op, cost], feed_dict={X: x_data, Y: y_data})\n",
        "\n",
        "        if step % 100 == 0:\n",
        "            print(step, cost_val)\n",
        "    sess.run(tf.local_variables_initializer())\n",
        "    a = sess.run([update_op], feed_dict={X: x_data, Y: y_data})\n",
        "    print(a[0])"
      ],
      "execution_count": 0,
      "outputs": [
        {
          "output_type": "stream",
          "text": [
            "0 11.472703\n",
            "100 0.010234507\n",
            "200 0.0043316903\n",
            "300 0.0026294952\n",
            "400 0.0018510688\n",
            "500 0.0014144125\n",
            "600 0.001137327\n",
            "700 0.0009472867\n",
            "800 0.0008090356\n",
            "900 0.0007042288\n",
            "1.0\n"
          ],
          "name": "stdout"
        }
      ]
    },
    {
      "metadata": {
        "id": "e9DOxgG1r0h0",
        "colab_type": "text"
      },
      "cell_type": "markdown",
      "source": [
        "train/test split"
      ]
    },
    {
      "metadata": {
        "id": "vGUEiERxrzvQ",
        "colab_type": "code",
        "colab": {}
      },
      "cell_type": "code",
      "source": [
        "# 텐서플로우를 초기화한다\n",
        "tf.reset_default_graph()"
      ],
      "execution_count": 0,
      "outputs": []
    },
    {
      "metadata": {
        "id": "x2TGJz6srxXF",
        "colab_type": "code",
        "colab": {}
      },
      "cell_type": "code",
      "source": [
        "raw_data = pd.read_csv('/content/gdrive/My Drive/lecture/mlp/wine.csv')"
      ],
      "execution_count": 0,
      "outputs": []
    },
    {
      "metadata": {
        "id": "wBw364Qyr8j8",
        "colab_type": "code",
        "outputId": "bbe9077f-43fd-4d5e-ed46-b50ec9333d13",
        "colab": {
          "base_uri": "https://localhost:8080/",
          "height": 151
        }
      },
      "cell_type": "code",
      "source": [
        "x_data = np.asarray(raw_data.ix[:, 1:])\n",
        "y_data = np.asarray(raw_data.ix[:, 0])"
      ],
      "execution_count": 0,
      "outputs": [
        {
          "output_type": "stream",
          "text": [
            "/usr/local/lib/python3.6/dist-packages/ipykernel_launcher.py:1: DeprecationWarning: \n",
            ".ix is deprecated. Please use\n",
            ".loc for label based indexing or\n",
            ".iloc for positional indexing\n",
            "\n",
            "See the documentation here:\n",
            "http://pandas.pydata.org/pandas-docs/stable/indexing.html#ix-indexer-is-deprecated\n",
            "  \"\"\"Entry point for launching an IPython kernel.\n"
          ],
          "name": "stderr"
        }
      ]
    },
    {
      "metadata": {
        "id": "iHZLJ3-6r-0T",
        "colab_type": "code",
        "colab": {}
      },
      "cell_type": "code",
      "source": [
        "N = x_data.shape[0]\n",
        "idx = np.arange(N)\n",
        "np.random.shuffle(idx)\n",
        "train_idx = idx[:int(0.9 * N)]\n",
        "test_idx = idx[int(0.9 * N):]"
      ],
      "execution_count": 0,
      "outputs": []
    },
    {
      "metadata": {
        "id": "1Vv-SiPwsBjr",
        "colab_type": "code",
        "colab": {}
      },
      "cell_type": "code",
      "source": [
        "test_x_data = x_data[test_idx]\n",
        "test_y_data = y_data[test_idx]"
      ],
      "execution_count": 0,
      "outputs": []
    },
    {
      "metadata": {
        "id": "4GwKyVuAsEAb",
        "colab_type": "code",
        "colab": {}
      },
      "cell_type": "code",
      "source": [
        "x_data = x_data[train_idx]\n",
        "y_data = y_data[train_idx]"
      ],
      "execution_count": 0,
      "outputs": []
    },
    {
      "metadata": {
        "id": "IyW05LSysFXz",
        "colab_type": "code",
        "colab": {}
      },
      "cell_type": "code",
      "source": [
        "mean = np.mean(x_data, axis=0)\n",
        "std = np.std(x_data, axis=0)\n",
        "x_data = (x_data - mean) / std"
      ],
      "execution_count": 0,
      "outputs": []
    },
    {
      "metadata": {
        "id": "Tv2JVykusG7l",
        "colab_type": "code",
        "colab": {}
      },
      "cell_type": "code",
      "source": [
        "test_x_data = (test_x_data - mean) / std"
      ],
      "execution_count": 0,
      "outputs": []
    },
    {
      "metadata": {
        "id": "kikIJBn1sIPT",
        "colab_type": "code",
        "colab": {}
      },
      "cell_type": "code",
      "source": [
        "W1 = tf.Variable(tf.random_uniform([13, 32], -1, 1))\n",
        "b1 = tf.Variable(tf.random_uniform([32], -1, 1))\n",
        "\n",
        "W2 = tf.Variable(tf.random_uniform([32, 16], -1, 1))\n",
        "b2 = tf.Variable(tf.random_uniform([16], -1, 1))\n",
        "\n",
        "W3 = tf.Variable(tf.random_uniform([16, 3], -1, 1))\n",
        "b3 = tf.Variable(tf.random_uniform([3], -1, 1))"
      ],
      "execution_count": 0,
      "outputs": []
    },
    {
      "metadata": {
        "id": "gjTBEPsxsJwD",
        "colab_type": "code",
        "colab": {}
      },
      "cell_type": "code",
      "source": [
        "# name: 나중에 텐서보드등으로 값의 변화를 추적하거나 살펴보기 쉽게 하기 위해 이름을 붙여줍니다.\n",
        "X = tf.placeholder(tf.float32, shape=[None, 13], name=\"X\")\n",
        "Y = tf.placeholder(tf.int32, shape=[None], name=\"Y\")\n",
        "Y_onehot = tf.one_hot(Y, depth=3)"
      ],
      "execution_count": 0,
      "outputs": []
    },
    {
      "metadata": {
        "id": "On-NyMSVs9xK",
        "colab_type": "code",
        "colab": {}
      },
      "cell_type": "code",
      "source": [
        "# X 와 Y 의 상관 관계를 분석하기 위한 가설 수식을 작성합니다.\n",
        "# W 와 X 가 행렬이므로 tf.matmul을 사용했습니다.\n",
        "h1 = tf.nn.relu(tf.matmul(X, W1) + b1)\n",
        "h2 = tf.nn.relu(tf.matmul(h1, W2) + b2)\n",
        "h3 = tf.matmul(h2, W3) + b3\n",
        "hypothesis = tf.nn.softmax(h3)"
      ],
      "execution_count": 0,
      "outputs": []
    },
    {
      "metadata": {
        "id": "loWNerF3s_iq",
        "colab_type": "code",
        "colab": {}
      },
      "cell_type": "code",
      "source": [
        "# 손실 함수를 작성합니다.\n",
        "# cross entropy : 예측값과 실제값의 cross entropy를 비용(손실) 함수로 정합니다.\n",
        "cost = tf.reduce_mean(tf.nn.softmax_cross_entropy_with_logits_v2(labels=Y_onehot, logits=h3))"
      ],
      "execution_count": 0,
      "outputs": []
    },
    {
      "metadata": {
        "id": "JYPw8LIKtBvC",
        "colab_type": "code",
        "colab": {}
      },
      "cell_type": "code",
      "source": [
        "# 텐서플로우에 기본적으로 포함되어 있는 함수를 이용해 경사 하강법 최적화를 수행합니다.\n",
        "optimizer = tf.train.GradientDescentOptimizer(learning_rate=0.1)\n",
        "# 비용을 최소화 하는 것이 최종 목표\n",
        "train_op = optimizer.minimize(cost)"
      ],
      "execution_count": 0,
      "outputs": []
    },
    {
      "metadata": {
        "id": "gJyvWInntDcB",
        "colab_type": "code",
        "colab": {}
      },
      "cell_type": "code",
      "source": [
        "acc, update_op = tf.metrics.accuracy(Y, tf.argmax(hypothesis, axis=-1))"
      ],
      "execution_count": 0,
      "outputs": []
    },
    {
      "metadata": {
        "id": "AApDsqiutJhJ",
        "colab_type": "code",
        "outputId": "d8370171-2fc1-491d-ebea-995ac4cadf5c",
        "colab": {
          "base_uri": "https://localhost:8080/",
          "height": 218
        }
      },
      "cell_type": "code",
      "source": [
        "# 세션을 생성하고 초기화합니다.\n",
        "with tf.Session() as sess:\n",
        "    sess.run(tf.global_variables_initializer())\n",
        "\n",
        "    # 최적화를 100번 수행합니다.\n",
        "    for step in range(1000):\n",
        "        # sess.run 을 통해 train_op 와 cost 그래프를 계산합니다.\n",
        "        # 이 때, 가설 수식에 넣어야 할 실제값을 feed_dict 을 통해 전달합니다.\n",
        "        _, cost_val = sess.run([train_op, cost], feed_dict={X: x_data, Y: y_data})\n",
        "\n",
        "        if step % 100 == 0:\n",
        "            print(step, cost_val)\n",
        "    sess.run(tf.local_variables_initializer())\n",
        "    a = sess.run([update_op], feed_dict={X: x_data, Y: y_data})\n",
        "    print(a[0])\n",
        "\n",
        "    sess.run(tf.local_variables_initializer())\n",
        "    a = sess.run([update_op], feed_dict={X: test_x_data, Y: test_y_data})\n",
        "    print(a[0])"
      ],
      "execution_count": 0,
      "outputs": [
        {
          "output_type": "stream",
          "text": [
            "0 4.4460077\n",
            "100 0.012251591\n",
            "200 0.0048195124\n",
            "300 0.0028869861\n",
            "400 0.0020308052\n",
            "500 0.0015505942\n",
            "600 0.0012471478\n",
            "700 0.0010386433\n",
            "800 0.00088700606\n",
            "900 0.00077038375\n",
            "1.0\n",
            "0.9444444\n"
          ],
          "name": "stdout"
        }
      ]
    },
    {
      "metadata": {
        "id": "NbCDEK1xtLaB",
        "colab_type": "code",
        "colab": {}
      },
      "cell_type": "code",
      "source": [
        ""
      ],
      "execution_count": 0,
      "outputs": []
    }
  ]
}