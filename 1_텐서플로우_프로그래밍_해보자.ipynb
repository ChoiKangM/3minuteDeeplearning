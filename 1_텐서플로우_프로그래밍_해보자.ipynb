{
  "nbformat": 4,
  "nbformat_minor": 0,
  "metadata": {
    "colab": {
      "name": "1.텐서플로우 프로그래밍 해보자.ipynb",
      "version": "0.3.2",
      "provenance": [],
      "include_colab_link": true
    }
  },
  "cells": [
    {
      "cell_type": "markdown",
      "metadata": {
        "id": "view-in-github",
        "colab_type": "text"
      },
      "source": [
        "[![Open In Colab](https://colab.research.google.com/assets/colab-badge.svg)](https://colab.research.google.com/github/kei01138/3minuteDeeplearning/blob/master/1_%ED%85%90%EC%84%9C%ED%94%8C%EB%A1%9C%EC%9A%B0_%ED%94%84%EB%A1%9C%EA%B7%B8%EB%9E%98%EB%B0%8D_%ED%95%B4%EB%B3%B4%EC%9E%90.ipynb)"
      ]
    },
    {
      "metadata": {
        "id": "9uyph9Bb7srE",
        "colab_type": "text"
      },
      "cell_type": "markdown",
      "source": [
        "# 텐서플로우 프로그래밍 해보자\n",
        "\n",
        "텐서플로우는 딥러닝 프레임워크로 유명하지만, 사실 딥러닝용으로만 사용할 수 있는 것은 아닙니다.   \n",
        "그래프 형태의 수학적 계산을 수행하는 핵심 라이브러리를 구현한 후,   \n",
        "그 위에 딥러닝을 포함한 여러 머신러닝을 쉽게 할 수 있는 다양한 라이브러리를 올린 형태입니다.  \n",
        "\n",
        "이를 위해 텐서플로우는 일반적인 프로그래밍 방식과는 약간 다른 개념들을 포함합니다.   \n",
        "이러한 텐서플로우를 사용하는 데 필요한 **텐서(Tensor)**, **플레이스홀더(Placeholder)**, **변수(Variable)**   \n",
        "그리고 **연산**의 개념과 **그래프**를 실행하는 기본적인 방법을 배워봅니다 \n",
        "\n",
        "## 텐서와 그래프 실행\n",
        "\n",
        "새로운 프로그래밍 언어나 라이브러리를 학습하는 가장 좋은 방법은 직접 코드를 입력해가며 배우는 것이 가장 쉽고 재미있는 방법입니다.\n",
        "\n",
        "하나씩 공부해봅시다\n",
        "\n",
        "먼저 텐서플로를 사용하기 위해 라이브러리를 가져옵시다\n",
        "\n",
        "\n",
        "\n"
      ]
    },
    {
      "metadata": {
        "id": "LGDxCCfy7Z1C",
        "colab_type": "code",
        "colab": {}
      },
      "cell_type": "code",
      "source": [
        "import tensorflow as tf"
      ],
      "execution_count": 0,
      "outputs": []
    },
    {
      "metadata": {
        "id": "08_8K5ZY7g8L",
        "colab_type": "text"
      },
      "cell_type": "markdown",
      "source": [
        "다음은 **tf.constant** 상수를 **hello** 변수에 저장합시다.  \n",
        "텐서플로의 상수는 일반 프로그래밍 언어에서 써온 상수와 같다고 보면 됩니다"
      ]
    },
    {
      "metadata": {
        "id": "e_CEd-85JkRx",
        "colab_type": "code",
        "colab": {
          "base_uri": "https://localhost:8080/",
          "height": 34
        },
        "outputId": "89d07b1a-53ce-4ef9-d328-24ce911a1cd1"
      },
      "cell_type": "code",
      "source": [
        "hello = tf.constant('Hello, Tensorflow!')\n",
        "print(hello)"
      ],
      "execution_count": 11,
      "outputs": [
        {
          "output_type": "stream",
          "text": [
            "Tensor(\"Const_4:0\", shape=(), dtype=string)\n"
          ],
          "name": "stdout"
        }
      ]
    },
    {
      "metadata": {
        "id": "c8o7LA-1Jqdo",
        "colab_type": "text"
      },
      "cell_type": "markdown",
      "source": [
        "여기까지 입력하고 소스코드를 실행하면 다음 결과를 보실 수 있습니다.\n",
        "\n",
        "\n",
        "```terminal\n",
        "Tensor(\"Const:0\", shape=(), dtype=string)\n",
        "```\n",
        "\n",
        "**hello** 변수의 값을 출력한 결과로,  \n",
        "hello가 텐서플로의 **텐서(Tensor)** 라는 자료형이고,  \n",
        "상수를 담고 있음을 의미합니다.  \n",
        "\n",
        "텐서는 텐서플로에서 다양한 수학식을 계싼하기 위해 가장 기본적이고 중요한 자료형이며,  \n",
        "다음과 같이 **랭크(Rank)** 와 **셰이프(Shape)** 라는 개념을 가지고 있습니다.\n"
      ]
    },
    {
      "metadata": {
        "id": "ouOj-xC1Jpse",
        "colab_type": "code",
        "colab": {
          "base_uri": "https://localhost:8080/",
          "height": 34
        },
        "outputId": "208df935-b378-493c-f8f8-44833337edd0"
      },
      "cell_type": "code",
      "source": [
        "3 # 랭크가 0인 텐서; 셰이프는 []\n",
        "[1.,2.,3.] # 랭크가 1인 텐서; 셰이프는 [3]\n",
        "[[1.,2.,3.], [4.,5.,6.]] # 랭크가 2인 텐서; 셰이프는 [2,3]\n",
        "[[[1.,2.,3.]], [[7.,8.,9.]]] # 랭크가 3인 텐서; 셰이프는 [2,1,3]"
      ],
      "execution_count": 12,
      "outputs": [
        {
          "output_type": "execute_result",
          "data": {
            "text/plain": [
              "[[[1.0, 2.0, 3.0]], [[7.0, 8.0, 9.0]]]"
            ]
          },
          "metadata": {
            "tags": []
          },
          "execution_count": 12
        }
      ]
    },
    {
      "metadata": {
        "id": "9s_UN7HjK_Y8",
        "colab_type": "text"
      },
      "cell_type": "markdown",
      "source": [
        "텐서 자료형의 형태는 배열과 비슷하다고 생각하면 됩니다.  \n",
        "보는 바와 같이 랭크는 차원의 수를 나타내는 것으로써,  \n",
        "랭크가 0이면 스칼라, 1이면 벡터, 2면 행렬, 3 이상이면 n-Tensor 또는 n차원 텐서라고 부릅니다.  \n",
        "그리고 셰이프는 각 차원의 요소 개수로, 텐서의 구조를 설명해줍니다.  \n",
        "텐서를 출력할 때 나오는 dtype은 해당 텐서에 담긴 요소들의 자료형입니다.  \n",
        "string, float, int 등이 올 수 있습니다.\n",
        "\n",
        "\n",
        "\n",
        "이러한 텐서를 이용해 다양한 **연산**을 수행할 수 있으며, 덧셈은 다음처럼 간단히 할 수 있습니다."
      ]
    },
    {
      "metadata": {
        "id": "DEuaDCo8LhNS",
        "colab_type": "code",
        "colab": {
          "base_uri": "https://localhost:8080/",
          "height": 34
        },
        "outputId": "3bfeca49-6e06-4f44-bef2-d82c35f06258"
      },
      "cell_type": "code",
      "source": [
        "# 그래프 생성\n",
        "a = tf.constant(10)\n",
        "b = tf.constant(32)\n",
        "c = tf.add(a,b)\n",
        "print(c)"
      ],
      "execution_count": 13,
      "outputs": [
        {
          "output_type": "stream",
          "text": [
            "Tensor(\"Add_1:0\", shape=(), dtype=int32)\n"
          ],
          "name": "stdout"
        }
      ]
    },
    {
      "metadata": {
        "id": "PFzb8b5pLuII",
        "colab_type": "text"
      },
      "cell_type": "markdown",
      "source": [
        "일반적인 프로그래머라면 이 코드를 실행하면 42가 나올 것으로 생각할 수 있습니다.  \n",
        "하지만 다음과 같이 텐서의 형태를 출력합니다.  \n",
        "\n",
        "\n",
        "\n",
        "```\n",
        "Tensor(\"Add:0\", shape=(), dtype=int32)\n",
        "```\n",
        "\n"
      ]
    },
    {
      "metadata": {
        "id": "UsNh_Aw8L7s9",
        "colab_type": "text"
      },
      "cell_type": "markdown",
      "source": [
        "그 이유는 텐서플로 프로그램의 구조가 다음의 두가지로 분리되어 있기 때문입니다.\n",
        "\n",
        "> 1.그래프 생성  -> tf.constant 사용 했던 부분  \n",
        "> 2.그래프 실행  -> sess.run(c), 연산을 실제로 수행\n",
        "\n",
        "**그래프**는 간단하게 말해 텐서들의 연산 모음이라고 생각합니다.  \n",
        "텐서플로우는 텐서와 텐서의 연산들을 먼저 정의해 그래프를 만들고,  \n",
        "이후 필요할 때 연산을 실행하는 코드를 넣어 **원하는 시점**에 실제 연산을 수행하도록 합니다.  \n",
        "참고로 이러한 방식을 **지연 실행**이라고 하며, 함수형 프로그래밍에서 많이 사용합니다.  \n",
        "\n",
        "그래프의 실행은 Session 안에서 이뤄져야 하며,  \n",
        "다음과 같이 Session 객체와 run 메서드를 이용하면 됩니다\n"
      ]
    },
    {
      "metadata": {
        "id": "Q3QsYMJHL6to",
        "colab_type": "code",
        "colab": {
          "base_uri": "https://localhost:8080/",
          "height": 51
        },
        "outputId": "0c8e9f7f-b5a2-48a8-d726-1546f5cd4714"
      },
      "cell_type": "code",
      "source": [
        "# 그래프 실행\n",
        "sess = tf.Session()\n",
        "\n",
        "print(sess.run(hello))\n",
        "print(sess.run([a,b,c]))\n",
        "\n",
        "sess.close()"
      ],
      "execution_count": 14,
      "outputs": [
        {
          "output_type": "stream",
          "text": [
            "Hello, Tensorflow!\n",
            "[10, 32, 42]\n"
          ],
          "name": "stdout"
        }
      ]
    },
    {
      "metadata": {
        "id": "XB7ndbNdNeG3",
        "colab_type": "text"
      },
      "cell_type": "markdown",
      "source": [
        "이제 코드를 실행하면 다음과 같이 기대한 계산 결과를 볼 수 있습니다.  \n",
        "\n",
        "\n",
        "```\n",
        "Hello, Tensorflow!\n",
        "[10, 32, 42]\n",
        "```\n",
        "\n",
        "아래는 전체 코드입니다\n",
        "\n",
        "\n",
        "\n",
        "```python\n",
        "import tensorflow as tf\n",
        "\n",
        "hello = tf.constant('Hello, Tensorflow!')\n",
        "print(hello)\n",
        "\n",
        "# 그래프 생성\n",
        "a = tf.constant(10)\n",
        "b = tf.constant(32)\n",
        "c = tf.add(a,b)\n",
        "print(c)\n",
        "\n",
        "# 그래프 실행\n",
        "sess = tf.Session()\n",
        "\n",
        "print(sess.run(hello))\n",
        "print(sess.run([a,b,c]))\n",
        "\n",
        "sess.close()\n",
        "```\n",
        "\n"
      ]
    },
    {
      "metadata": {
        "id": "8QYhSaFwNz1c",
        "colab_type": "text"
      },
      "cell_type": "markdown",
      "source": [
        "## 플레이스홀더와 변수\n",
        "\n"
      ]
    }
  ]
}